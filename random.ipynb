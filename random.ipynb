{
 "cells": [
  {
   "cell_type": "code",
   "execution_count": 1,
   "metadata": {},
   "outputs": [],
   "source": [
    "import numpy as np"
   ]
  },
  {
   "cell_type": "code",
   "execution_count": 5,
   "metadata": {},
   "outputs": [],
   "source": [
    "a=np.random.rand(10,10)"
   ]
  },
  {
   "cell_type": "code",
   "execution_count": 6,
   "metadata": {},
   "outputs": [
    {
     "data": {
      "text/plain": [
       "array([[0.87181572, 0.83660173, 0.98816776, 0.316919  , 0.8087897 ,\n",
       "        0.37175209, 0.37607633, 0.54599836, 0.66303503, 0.59834849],\n",
       "       [0.31393273, 0.30695448, 0.1688492 , 0.186567  , 0.44307712,\n",
       "        0.6300467 , 0.08296637, 0.42278883, 0.54010025, 0.57416704],\n",
       "       [0.1548792 , 0.61564327, 0.79586595, 0.44602386, 0.92433529,\n",
       "        0.49234678, 0.59960977, 0.61086122, 0.42619192, 0.98307153],\n",
       "       [0.26235954, 0.91994298, 0.53867704, 0.16294982, 0.97816375,\n",
       "        0.11906903, 0.5486384 , 0.31077271, 0.39488225, 0.85714167],\n",
       "       [0.84204559, 0.33770305, 0.65545845, 0.04621909, 0.08089988,\n",
       "        0.6750394 , 0.65701846, 0.75509722, 0.72333779, 0.37766187],\n",
       "       [0.77077487, 0.7207979 , 0.42449911, 0.71627145, 0.12539816,\n",
       "        0.69627083, 0.5615841 , 0.42870887, 0.28450422, 0.4543807 ],\n",
       "       [0.27843056, 0.17694703, 0.6310897 , 0.36374291, 0.81516805,\n",
       "        0.21241995, 0.13184494, 0.30957247, 0.95339402, 0.55041423],\n",
       "       [0.74954564, 0.26782605, 0.81487147, 0.81072707, 0.90193192,\n",
       "        0.47982085, 0.17308099, 0.87893865, 0.20500123, 0.35318184],\n",
       "       [0.01943968, 0.25973763, 0.23639069, 0.8275118 , 0.1089117 ,\n",
       "        0.84489075, 0.99815393, 0.15139104, 0.64441226, 0.87317834],\n",
       "       [0.14326734, 0.02786001, 0.04943822, 0.50763231, 0.55977517,\n",
       "        0.24928723, 0.67132943, 0.65074376, 0.09688207, 0.72114659]])"
      ]
     },
     "execution_count": 6,
     "metadata": {},
     "output_type": "execute_result"
    }
   ],
   "source": [
    "a"
   ]
  },
  {
   "cell_type": "code",
   "execution_count": 7,
   "metadata": {},
   "outputs": [
    {
     "data": {
      "text/plain": [
       "0.019439683517573747"
      ]
     },
     "execution_count": 7,
     "metadata": {},
     "output_type": "execute_result"
    }
   ],
   "source": [
    "a.min()"
   ]
  },
  {
   "cell_type": "code",
   "execution_count": 9,
   "metadata": {},
   "outputs": [
    {
     "data": {
      "text/plain": [
       "0.9981539299582294"
      ]
     },
     "execution_count": 9,
     "metadata": {},
     "output_type": "execute_result"
    }
   ],
   "source": [
    "a.max()"
   ]
  },
  {
   "cell_type": "code",
   "execution_count": null,
   "metadata": {},
   "outputs": [],
   "source": []
  },
  {
   "cell_type": "code",
   "execution_count": null,
   "metadata": {},
   "outputs": [],
   "source": []
  },
  {
   "cell_type": "code",
   "execution_count": null,
   "metadata": {},
   "outputs": [],
   "source": []
  }
 ],
 "metadata": {
  "kernelspec": {
   "display_name": "Python 3",
   "language": "python",
   "name": "python3"
  },
  "language_info": {
   "codemirror_mode": {
    "name": "ipython",
    "version": 3
   },
   "file_extension": ".py",
   "mimetype": "text/x-python",
   "name": "python",
   "nbconvert_exporter": "python",
   "pygments_lexer": "ipython3",
   "version": "3.8.0"
  },
  "orig_nbformat": 4,
  "vscode": {
   "interpreter": {
    "hash": "0c69c66cc8db0dff81d96633ccbf4025453efbca3f917f6057488d7b25fa0ff9"
   }
  }
 },
 "nbformat": 4,
 "nbformat_minor": 2
}
